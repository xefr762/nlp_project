{
 "cells": [
  {
   "cell_type": "code",
   "execution_count": 1,
   "metadata": {},
   "outputs": [],
   "source": [
    "import pandas as pd\n",
    "import numpy as np\n",
    "import torch\n",
    "\n",
    "import string\n",
    "import re\n",
    "import time\n",
    "from nltk.corpus import stopwords\n",
    "# nltk.download('stopwords')\n",
    "\n",
    "from sklearn.utils.class_weight import compute_class_weight\n",
    "from torchmetrics.classification import AUROC, PrecisionRecallCurve\n",
    "from transformers import AutoTokenizer, AutoModelForSequenceClassification\n",
    "\n",
    "import matplotlib.pyplot as plt"
   ]
  },
  {
   "cell_type": "code",
   "execution_count": 2,
   "metadata": {},
   "outputs": [],
   "source": [
    "stop_words = set(stopwords.words(\"russian\"))\n",
    "\n",
    "model_checkpoint = 'cointegrated/rubert-tiny-sentiment-balanced'\n",
    "tokenizer = AutoTokenizer.from_pretrained(model_checkpoint)\n",
    "model = AutoModelForSequenceClassification.from_pretrained(model_checkpoint)\n",
    "\n",
    "def clean_text(text, remove_stopwords=True):\n",
    "    text = re.sub(r\"\\s+\", \" \", text).strip()\n",
    "    text = text.translate(str.maketrans(\"\", \"\", string.punctuation))\n",
    "    text = text.lower()\n",
    "    words = text.split()\n",
    "\n",
    "    if remove_stopwords:\n",
    "        words = [word for word in words if word not in stop_words]\n",
    "    return \" \".join(words)\n",
    "\n",
    "def tokenize_texts(texts):\n",
    "    return tokenizer(texts, padding='max_length', max_length=50, truncation=True, return_tensors=\"pt\")\n",
    "\n",
    "df = pd.read_csv('/Users/le_fuu/Downloads/save.csv', index_col='Unnamed: 0', encoding='utf-8')\n",
    "\n",
    "device = 'mps'"
   ]
  },
  {
   "cell_type": "code",
   "execution_count": 3,
   "metadata": {},
   "outputs": [],
   "source": [
    "df['cleaned_content'] = df['Content'].apply(clean_text)"
   ]
  },
  {
   "cell_type": "code",
   "execution_count": 4,
   "metadata": {},
   "outputs": [
    {
     "data": {
      "text/plain": [
       "Target\n",
       "Good       27264\n",
       "Bad         4751\n",
       "Neutral     4576\n",
       "Name: count, dtype: int64"
      ]
     },
     "execution_count": 4,
     "metadata": {},
     "output_type": "execute_result"
    }
   ],
   "source": [
    "df['Target'].value_counts()"
   ]
  },
  {
   "cell_type": "code",
   "execution_count": 5,
   "metadata": {},
   "outputs": [],
   "source": [
    "label_mapping = {\"Good\": 0, \"Bad\": 1, \"Neutral\": 2}\n",
    "df[\"Target\"] = df[\"Target\"].map(label_mapping)"
   ]
  },
  {
   "cell_type": "code",
   "execution_count": 6,
   "metadata": {},
   "outputs": [],
   "source": [
    "class_weights = compute_class_weight('balanced', classes=np.array([0, 1, 2]), \n",
    "                                     y=df[\"Target\"].values)\n",
    "class_weights = torch.tensor(class_weights, dtype=torch.float)"
   ]
  },
  {
   "cell_type": "code",
   "execution_count": 7,
   "metadata": {},
   "outputs": [],
   "source": [
    "encodings = tokenize_texts(df[\"cleaned_content\"].tolist())\n",
    "labels = torch.tensor(df[\"Target\"].tolist())"
   ]
  },
  {
   "cell_type": "code",
   "execution_count": 8,
   "metadata": {},
   "outputs": [
    {
     "data": {
      "text/plain": [
       "torch.Size([36591])"
      ]
     },
     "execution_count": 8,
     "metadata": {},
     "output_type": "execute_result"
    }
   ],
   "source": [
    "labels.shape"
   ]
  },
  {
   "cell_type": "code",
   "execution_count": 9,
   "metadata": {},
   "outputs": [],
   "source": [
    "class CLFDataset(torch.utils.data.Dataset):\n",
    "    def __init__(self, encodings, labels):\n",
    "        self.encodings = encodings\n",
    "        self.labels = labels\n",
    "\n",
    "    def __len__(self):\n",
    "        return len(self.labels)\n",
    "\n",
    "    def __getitem__(self, idx):\n",
    "        item = {key: val[idx] for key, val in self.encodings.items()}\n",
    "        item[\"labels\"] = self.labels[idx]\n",
    "        return item\n",
    "\n",
    "dataset = CLFDataset(encodings, labels)"
   ]
  },
  {
   "cell_type": "code",
   "execution_count": 10,
   "metadata": {},
   "outputs": [],
   "source": [
    "batch_size = 128\n",
    "\n",
    "train_ds, valid_ds = torch.utils.data.random_split(dataset, [0.8, 0.2])\n",
    "\n",
    "train_loader = torch.utils.data.DataLoader(train_ds, shuffle=False, batch_size=batch_size)\n",
    "valid_loader = torch.utils.data.DataLoader(valid_ds, shuffle=False, batch_size=batch_size)"
   ]
  },
  {
   "cell_type": "code",
   "execution_count": 11,
   "metadata": {},
   "outputs": [
    {
     "data": {
      "text/plain": [
       "(torch.Size([128, 50]), torch.Size([128]))"
      ]
     },
     "execution_count": 11,
     "metadata": {},
     "output_type": "execute_result"
    }
   ],
   "source": [
    "batch = next(iter(train_loader))\n",
    "batch[\"input_ids\"].shape, batch[\"labels\"].shape"
   ]
  },
  {
   "cell_type": "code",
   "execution_count": 12,
   "metadata": {},
   "outputs": [],
   "source": [
    "class ReviewBert(torch.nn.Module):\n",
    "    def __init__(self):\n",
    "        super().__init__()\n",
    "        self.bert = AutoModelForSequenceClassification.from_pretrained(model_checkpoint)\n",
    "        for param in self.bert.parameters():\n",
    "            param.requires_grad = False\n",
    "        self.bert.classifier = torch.nn.Sequential(\n",
    "            torch.nn.Linear(312, 256),\n",
    "            torch.nn.Tanh(),\n",
    "            torch.nn.Dropout(),\n",
    "            torch.nn.Linear(256, 128),\n",
    "            torch.nn.Tanh(),\n",
    "            torch.nn.Dropout(),\n",
    "            torch.nn.Linear(128,3)\n",
    "        )\n",
    "        for param in self.bert.classifier.parameters():\n",
    "            param.requires_grad = True\n",
    "    def forward(self, input_ids, attention_mask):\n",
    "        outputs = self.bert(input_ids=input_ids, attention_mask=attention_mask)\n",
    "        return outputs.logits"
   ]
  },
  {
   "cell_type": "code",
   "execution_count": 13,
   "metadata": {},
   "outputs": [],
   "source": [
    "model = ReviewBert()\n",
    "model.to(device)\n",
    "optimizer = torch.optim.Adam(model.parameters(), lr=0.0001)\n",
    "criterion = torch.nn.CrossEntropyLoss(weight=class_weights).to(device)\n",
    "metric = AUROC(task='multiclass', num_classes=3).to(device)\n",
    "# for params in model.parameters():\n",
    "#     print(params.requires_grad)"
   ]
  },
  {
   "cell_type": "code",
   "execution_count": 14,
   "metadata": {},
   "outputs": [],
   "source": [
    "def train(\n",
    "        epochs: int, \n",
    "        model: torch.nn.Module, \n",
    "        train_loader: torch.utils.data.DataLoader,\n",
    "        valid_loader: torch.utils.data.DataLoader, \n",
    "        optimizer: torch.optim.Optimizer, \n",
    "        criterion, \n",
    "        metric\n",
    "        ) -> tuple: \n",
    "    \"\"\"Training recurrent model for binary classification task\n",
    "\n",
    "    Args:\n",
    "        epochs (int): Number of epochs\n",
    "        model (nn.Module): Model instance\n",
    "        train_loader (Dataloader): train loader\n",
    "        valid_loader (Dataloader): valid loader\n",
    "        optimizer (nn.Module): optimizer\n",
    "        criterion (nn.Module): criterion\n",
    "        metric (_type_): metric from torchmetrics\n",
    "        rnn_conf (dataclass): dataclass with params\n",
    "\n",
    "    Returns:\n",
    "        tuple: (train loss, valid loss, train metric, valid metric, training_time)\n",
    "    \"\"\"\n",
    "    epoch_train_losses = []\n",
    "    epoch_valid_losses = []\n",
    "    epoch_train_metric = []\n",
    "    epoch_valid_metric = []\n",
    "    time_start = time.time()\n",
    "    for epoch in range(epochs):\n",
    "        batch_losses = []\n",
    "        batch_metric = []\n",
    "        model.train()\n",
    "        for batch in train_loader:\n",
    "            input_ids, attention_mask, labels = batch['input_ids'].to(device), batch['attention_mask'].to(device), batch['labels'].to(device)\n",
    "            # labels = labels.unsqueeze(1)\n",
    "\n",
    "            outputs = model(input_ids, attention_mask)\n",
    "            loss = criterion(outputs, labels)\n",
    "\n",
    "            preds = torch.softmax(outputs, dim=1)\n",
    "            score = metric(preds, labels)\n",
    "\n",
    "            optimizer.zero_grad()\n",
    "            loss.backward()\n",
    "            optimizer.step()\n",
    "            batch_losses.append(loss.item())\n",
    "            batch_metric.append(score.item())\n",
    "        \n",
    "        epoch_train_losses.append(np.mean(batch_losses))\n",
    "        epoch_train_metric.append(np.mean(batch_metric))\n",
    "\n",
    "        # Валидация\n",
    "        batch_losses = []\n",
    "        batch_metric = []\n",
    "        model.eval()\n",
    "        with torch.no_grad():\n",
    "            for batch in valid_loader:\n",
    "                input_ids, attention_mask, labels = batch['input_ids'].to(device), batch['attention_mask'].to(device), batch['labels'].to(device)\n",
    "                # labels = labels.unsqueeze(1)\n",
    "\n",
    "                outputs = model(input_ids, attention_mask)\n",
    "                loss = criterion(outputs, labels)\n",
    "\n",
    "                preds = torch.softmax(outputs, dim=1)\n",
    "                score = metric(preds, labels)\n",
    "                \n",
    "                batch_losses.append(loss.item())\n",
    "                batch_metric.append(score.item())\n",
    "\n",
    "        epoch_valid_losses.append(np.mean(batch_losses))\n",
    "        epoch_valid_metric.append(np.mean(batch_metric))\n",
    "\n",
    "        print(f'Epoch {epoch+1}') \n",
    "        print(f'train_loss : {epoch_train_losses[-1]:.4f} val_loss : {epoch_valid_losses[-1]:.4f}')\n",
    "        print(f'train_metric : {epoch_train_metric[-1]:.2f} val_metric : {epoch_valid_metric[-1]:.2f}')\n",
    "        print(25*'==')\n",
    "\n",
    "    training_time = time.time() - time_start\n",
    "    return (epoch_train_losses, epoch_valid_losses, epoch_train_metric, epoch_valid_metric, training_time)"
   ]
  },
  {
   "cell_type": "code",
   "execution_count": 15,
   "metadata": {},
   "outputs": [
    {
     "name": "stdout",
     "output_type": "stream",
     "text": [
      "Epoch 1\n",
      "train_loss : 1.0879 val_loss : 1.0786\n",
      "train_metric : 0.56 val_metric : 0.58\n",
      "==================================================\n",
      "Epoch 2\n",
      "train_loss : 1.0788 val_loss : 1.0716\n",
      "train_metric : 0.58 val_metric : 0.60\n",
      "==================================================\n",
      "Epoch 3\n",
      "train_loss : 1.0736 val_loss : 1.0644\n",
      "train_metric : 0.59 val_metric : 0.61\n",
      "==================================================\n",
      "Epoch 4\n",
      "train_loss : 1.0670 val_loss : 1.0609\n",
      "train_metric : 0.60 val_metric : 0.62\n",
      "==================================================\n",
      "Epoch 5\n",
      "train_loss : 1.0639 val_loss : 1.0574\n",
      "train_metric : 0.61 val_metric : 0.62\n",
      "==================================================\n",
      "Epoch 6\n",
      "train_loss : 1.0631 val_loss : 1.0561\n",
      "train_metric : 0.61 val_metric : 0.62\n",
      "==================================================\n",
      "Epoch 7\n",
      "train_loss : 1.0601 val_loss : 1.0534\n",
      "train_metric : 0.62 val_metric : 0.63\n",
      "==================================================\n",
      "Epoch 8\n",
      "train_loss : 1.0601 val_loss : 1.0507\n",
      "train_metric : 0.62 val_metric : 0.63\n",
      "==================================================\n",
      "Epoch 9\n",
      "train_loss : 1.0578 val_loss : 1.0506\n",
      "train_metric : 0.62 val_metric : 0.63\n",
      "==================================================\n",
      "Epoch 10\n",
      "train_loss : 1.0567 val_loss : 1.0505\n",
      "train_metric : 0.62 val_metric : 0.63\n",
      "==================================================\n",
      "Epoch 11\n",
      "train_loss : 1.0568 val_loss : 1.0479\n",
      "train_metric : 0.62 val_metric : 0.64\n",
      "==================================================\n",
      "Epoch 12\n",
      "train_loss : 1.0582 val_loss : 1.0476\n",
      "train_metric : 0.62 val_metric : 0.64\n",
      "==================================================\n",
      "Epoch 13\n",
      "train_loss : 1.0571 val_loss : 1.0487\n",
      "train_metric : 0.62 val_metric : 0.64\n",
      "==================================================\n",
      "Epoch 14\n",
      "train_loss : 1.0547 val_loss : 1.0487\n",
      "train_metric : 0.63 val_metric : 0.63\n",
      "==================================================\n",
      "Epoch 15\n",
      "train_loss : 1.0571 val_loss : 1.0460\n",
      "train_metric : 0.62 val_metric : 0.64\n",
      "==================================================\n",
      "Epoch 16\n",
      "train_loss : 1.0571 val_loss : 1.0464\n",
      "train_metric : 0.62 val_metric : 0.64\n",
      "==================================================\n",
      "Epoch 17\n",
      "train_loss : 1.0583 val_loss : 1.0461\n",
      "train_metric : 0.62 val_metric : 0.64\n",
      "==================================================\n",
      "Epoch 18\n",
      "train_loss : 1.0561 val_loss : 1.0453\n",
      "train_metric : 0.63 val_metric : 0.64\n",
      "==================================================\n",
      "Epoch 19\n",
      "train_loss : 1.0555 val_loss : 1.0450\n",
      "train_metric : 0.63 val_metric : 0.64\n",
      "==================================================\n",
      "Epoch 20\n",
      "train_loss : 1.0534 val_loss : 1.0455\n",
      "train_metric : 0.63 val_metric : 0.64\n",
      "==================================================\n",
      "Epoch 21\n",
      "train_loss : 1.0536 val_loss : 1.0449\n",
      "train_metric : 0.63 val_metric : 0.64\n",
      "==================================================\n",
      "Epoch 22\n",
      "train_loss : 1.0540 val_loss : 1.0458\n",
      "train_metric : 0.63 val_metric : 0.64\n",
      "==================================================\n",
      "Epoch 23\n",
      "train_loss : 1.0543 val_loss : 1.0459\n",
      "train_metric : 0.62 val_metric : 0.64\n",
      "==================================================\n",
      "Epoch 24\n",
      "train_loss : 1.0548 val_loss : 1.0443\n",
      "train_metric : 0.62 val_metric : 0.64\n",
      "==================================================\n",
      "Epoch 25\n",
      "train_loss : 1.0539 val_loss : 1.0448\n",
      "train_metric : 0.63 val_metric : 0.64\n",
      "==================================================\n",
      "Epoch 26\n",
      "train_loss : 1.0540 val_loss : 1.0458\n",
      "train_metric : 0.63 val_metric : 0.64\n",
      "==================================================\n",
      "Epoch 27\n",
      "train_loss : 1.0517 val_loss : 1.0439\n",
      "train_metric : 0.63 val_metric : 0.64\n",
      "==================================================\n",
      "Epoch 28\n",
      "train_loss : 1.0552 val_loss : 1.0447\n",
      "train_metric : 0.62 val_metric : 0.64\n",
      "==================================================\n",
      "Epoch 29\n",
      "train_loss : 1.0504 val_loss : 1.0440\n",
      "train_metric : 0.63 val_metric : 0.64\n",
      "==================================================\n",
      "Epoch 30\n",
      "train_loss : 1.0520 val_loss : 1.0445\n",
      "train_metric : 0.63 val_metric : 0.64\n",
      "==================================================\n"
     ]
    }
   ],
   "source": [
    "epoch_train_losses, epoch_valid_losses, epoch_train_metric, epoch_valid_metric, training_time = train(epochs=30, model=model, train_loader=train_loader, valid_loader=valid_loader, optimizer=optimizer, criterion=criterion, metric=metric)"
   ]
  },
  {
   "cell_type": "code",
   "execution_count": 16,
   "metadata": {},
   "outputs": [
    {
     "data": {
      "image/png": "[encoded data removed]",
      "text/plain": [
       "<Figure size 1500x500 with 2 Axes>"
      ]
     },
     "metadata": {},
     "output_type": "display_data"
    },
    {
     "data": {
      "text/plain": [
       "<Figure size 640x480 with 0 Axes>"
      ]
     },
     "metadata": {},
     "output_type": "display_data"
    }
   ],
   "source": [
    "fig, ax = plt.subplots(1, 2, figsize=(15, 5))\n",
    "ax[0].plot(epoch_train_losses, label='train_loss')\n",
    "ax[0].plot(epoch_valid_losses, label='valid_loss')\n",
    "ax[0].legend()\n",
    "ax[0].set_title('Loss')\n",
    "ax[1].plot(epoch_train_metric, label='train_metric')\n",
    "ax[1].plot(epoch_valid_metric, label='valid_metric')\n",
    "ax[1].legend()\n",
    "ax[1].set_title('ROC-AUC')\n",
    "plt.legend()\n",
    "plt.show()\n",
    "plt.savefig('/Users/le_fuu/GitHub_Local/Phase_2/project_3/nlp_project/images/loss_ROCAUC_cls.png')\n"
   ]
  },
  {
   "cell_type": "code",
   "execution_count": 17,
   "metadata": {},
   "outputs": [
    {
     "data": {
      "image/png": "[encoded data removed]",
      "text/plain": [
       "<Figure size 800x800 with 1 Axes>"
      ]
     },
     "metadata": {},
     "output_type": "display_data"
    },
    {
     "data": {
      "text/plain": [
       "<Figure size 640x480 with 0 Axes>"
      ]
     },
     "metadata": {},
     "output_type": "display_data"
    }
   ],
   "source": [
    "from torchmetrics.classification import PrecisionRecallCurve\n",
    "\n",
    "num_classes = 3  \n",
    "pr_curve = PrecisionRecallCurve(task=\"multiclass\", num_classes=num_classes).to(device)\n",
    "\n",
    "model.eval()\n",
    "all_labels = []\n",
    "all_probs = []\n",
    "\n",
    "with torch.no_grad():\n",
    "    for batch in valid_loader:\n",
    "        input_ids, attention_mask, labels = batch['input_ids'].to(device), batch['attention_mask'].to(device), batch['labels'].to(device)\n",
    "        outputs = model(input_ids, attention_mask)\n",
    "\n",
    "        probs = torch.softmax(outputs, dim=1) \n",
    "\n",
    "        all_labels.extend(labels.cpu().numpy()) \n",
    "        all_probs.extend(probs.cpu().numpy())\n",
    "\n",
    "\n",
    "all_labels = np.array(all_labels)\n",
    "all_probs = np.array(all_probs)\n",
    "\n",
    "precision, recall, _ = pr_curve(torch.tensor(all_probs), torch.tensor(all_labels))\n",
    "\n",
    "# Построение графика\n",
    "plt.figure(figsize=(8, 8))\n",
    "for i in range(num_classes):\n",
    "    plt.plot(recall[i].cpu(), precision[i].cpu(), marker='.', label=f'Class {i}')\n",
    "    \n",
    "plt.xlabel('Recall')\n",
    "plt.ylabel('Precision')\n",
    "plt.title('Precision-Recall Curve (Multiclass)')\n",
    "plt.legend()\n",
    "plt.grid()\n",
    "plt.show()\n",
    "\n",
    "# Сохранение графика\n",
    "plt.savefig('/Users/le_fuu/GitHub_Local/Phase_2/project_3/nlp_project/images/pr_curve_cls.png')\n"
   ]
  },
  {
   "cell_type": "code",
   "execution_count": 18,
   "metadata": {},
   "outputs": [],
   "source": [
    "torch.save(model.state_dict(), 'clf_bert_v1.pth')"
   ]
  },
  {
   "cell_type": "code",
   "execution_count": 35,
   "metadata": {},
   "outputs": [
    {
     "data": {
      "text/plain": [
       "ReviewBert(\n",
       "  (bert): BertForSequenceClassification(\n",
       "    (bert): BertModel(\n",
       "      (embeddings): BertEmbeddings(\n",
       "        (word_embeddings): Embedding(29564, 312, padding_idx=0)\n",
       "        (position_embeddings): Embedding(512, 312)\n",
       "        (token_type_embeddings): Embedding(2, 312)\n",
       "        (LayerNorm): LayerNorm((312,), eps=1e-12, elementwise_affine=True)\n",
       "        (dropout): Dropout(p=0.1, inplace=False)\n",
       "      )\n",
       "      (encoder): BertEncoder(\n",
       "        (layer): ModuleList(\n",
       "          (0-2): 3 x BertLayer(\n",
       "            (attention): BertAttention(\n",
       "              (self): BertSdpaSelfAttention(\n",
       "                (query): Linear(in_features=312, out_features=312, bias=True)\n",
       "                (key): Linear(in_features=312, out_features=312, bias=True)\n",
       "                (value): Linear(in_features=312, out_features=312, bias=True)\n",
       "                (dropout): Dropout(p=0.1, inplace=False)\n",
       "              )\n",
       "              (output): BertSelfOutput(\n",
       "                (dense): Linear(in_features=312, out_features=312, bias=True)\n",
       "                (LayerNorm): LayerNorm((312,), eps=1e-12, elementwise_affine=True)\n",
       "                (dropout): Dropout(p=0.1, inplace=False)\n",
       "              )\n",
       "            )\n",
       "            (intermediate): BertIntermediate(\n",
       "              (dense): Linear(in_features=312, out_features=600, bias=True)\n",
       "              (intermediate_act_fn): GELUActivation()\n",
       "            )\n",
       "            (output): BertOutput(\n",
       "              (dense): Linear(in_features=600, out_features=312, bias=True)\n",
       "              (LayerNorm): LayerNorm((312,), eps=1e-12, elementwise_affine=True)\n",
       "              (dropout): Dropout(p=0.1, inplace=False)\n",
       "            )\n",
       "          )\n",
       "        )\n",
       "      )\n",
       "      (pooler): BertPooler(\n",
       "        (dense): Linear(in_features=312, out_features=312, bias=True)\n",
       "        (activation): Tanh()\n",
       "      )\n",
       "    )\n",
       "    (dropout): Dropout(p=0.1, inplace=False)\n",
       "    (classifier): Sequential(\n",
       "      (0): Linear(in_features=312, out_features=256, bias=True)\n",
       "      (1): Tanh()\n",
       "      (2): Dropout(p=0.5, inplace=False)\n",
       "      (3): Linear(in_features=256, out_features=128, bias=True)\n",
       "      (4): Tanh()\n",
       "      (5): Dropout(p=0.5, inplace=False)\n",
       "      (6): Linear(in_features=128, out_features=3, bias=True)\n",
       "    )\n",
       "  )\n",
       ")"
      ]
     },
     "execution_count": 35,
     "metadata": {},
     "output_type": "execute_result"
    }
   ],
   "source": [
    "n = 10\n",
    "text = df['Target'][n]\n",
    "model"
   ]
  },
  {
   "cell_type": "code",
   "execution_count": 21,
   "metadata": {},
   "outputs": [
    {
     "data": {
      "text/plain": [
       "{'input_ids': tensor([[    2,   105,   313,  1736,  2698,   117,     1, 19952,  6064,   689,\n",
       "          7165, 22130, 23279,  5567,  1669,  3030,   993,   735,   323,   920,\n",
       "          2726, 13197, 18022, 27208,  8911,  3915, 22787, 26335, 17168,   320,\n",
       "         23810,   328, 22342,   324, 13778, 17351,  1550,   332,  5041,  5179,\n",
       "           626,   332,  5041,  2847,     1, 20614,   329, 14335,  1348,     3]]), 'token_type_ids': tensor([[0, 0, 0, 0, 0, 0, 0, 0, 0, 0, 0, 0, 0, 0, 0, 0, 0, 0, 0, 0, 0, 0, 0, 0,\n",
       "         0, 0, 0, 0, 0, 0, 0, 0, 0, 0, 0, 0, 0, 0, 0, 0, 0, 0, 0, 0, 0, 0, 0, 0,\n",
       "         0, 0]]), 'attention_mask': tensor([[1, 1, 1, 1, 1, 1, 1, 1, 1, 1, 1, 1, 1, 1, 1, 1, 1, 1, 1, 1, 1, 1, 1, 1,\n",
       "         1, 1, 1, 1, 1, 1, 1, 1, 1, 1, 1, 1, 1, 1, 1, 1, 1, 1, 1, 1, 1, 1, 1, 1,\n",
       "         1, 1]])}"
      ]
     },
     "execution_count": 21,
     "metadata": {},
     "output_type": "execute_result"
    }
   ],
   "source": [
    "test_tok = tokenize_texts(text)\n",
    "test_tok\n",
    "# test_tok['input_ids']\n",
    "# test_tok['attention_mask']"
   ]
  },
  {
   "cell_type": "code",
   "execution_count": 22,
   "metadata": {},
   "outputs": [],
   "source": [
    "logits = model(test_tok['input_ids'].to(device), test_tok['attention_mask'].to(device))"
   ]
  },
  {
   "cell_type": "code",
   "execution_count": 25,
   "metadata": {},
   "outputs": [],
   "source": [
    "logits\n",
    "prob = torch.softmax(logits, dim=1)"
   ]
  },
  {
   "cell_type": "code",
   "execution_count": 32,
   "metadata": {},
   "outputs": [
    {
     "data": {
      "text/plain": [
       "0"
      ]
     },
     "execution_count": 32,
     "metadata": {},
     "output_type": "execute_result"
    }
   ],
   "source": [
    "prob.argmax().item()"
   ]
  },
  {
   "cell_type": "code",
   "execution_count": 36,
   "metadata": {},
   "outputs": [
    {
     "data": {
      "text/plain": [
       "0"
      ]
     },
     "execution_count": 36,
     "metadata": {},
     "output_type": "execute_result"
    }
   ],
   "source": [
    "text"
   ]
  },
  {
   "cell_type": "code",
   "execution_count": 42,
   "metadata": {},
   "outputs": [
    {
     "data": {
      "text/plain": [
       "'Good'"
      ]
     },
     "execution_count": 42,
     "metadata": {},
     "output_type": "execute_result"
    }
   ],
   "source": [
    "sentiment_dict = {\"Good\": 0, \"Bad\": 1, \"Neutral\": 2}\n",
    "reversed_dict = {v: k for k, v in sentiment_dict.items()}\n",
    "reversed_dict[0]"
   ]
  },
  {
   "cell_type": "code",
   "execution_count": null,
   "metadata": {},
   "outputs": [],
   "source": []
  }
 ],
 "metadata": {
  "kernelspec": {
   "display_name": "main",
   "language": "python",
   "name": "python3"
  },
  "language_info": {
   "codemirror_mode": {
    "name": "ipython",
    "version": 3
   },
   "file_extension": ".py",
   "mimetype": "text/x-python",
   "name": "python",
   "nbconvert_exporter": "python",
   "pygments_lexer": "ipython3",
   "version": "3.12.9"
  }
 },
 "nbformat": 4,
 "nbformat_minor": 2
}
