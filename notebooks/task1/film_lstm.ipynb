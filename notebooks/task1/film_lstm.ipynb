{
 "cells": [
  {
   "cell_type": "code",
   "execution_count": 1,
   "metadata": {},
   "outputs": [],
   "source": [
    "import numpy as np\n",
    "import pandas as pd\n",
    "import re\n",
    "\n",
    "#### Word2Vec\n",
    "import gensim\n",
    "from gensim.models import Word2Vec\n",
    "\n",
    "from collections import Counter\n",
    "\n",
    "import torch\n",
    "import torch.nn as nn\n",
    "import torch.nn.functional as F\n",
    "import torch.optim as optim\n",
    "from torch.utils.data import Dataset, DataLoader\n",
    "\n",
    "from imblearn.over_sampling import SMOTE"
   ]
  },
  {
   "cell_type": "code",
   "execution_count": 2,
   "metadata": {},
   "outputs": [
    {
     "data": {
      "text/html": [
       "<div>\n",
       "<style scoped>\n",
       "    .dataframe tbody tr th:only-of-type {\n",
       "        vertical-align: middle;\n",
       "    }\n",
       "\n",
       "    .dataframe tbody tr th {\n",
       "        vertical-align: top;\n",
       "    }\n",
       "\n",
       "    .dataframe thead th {\n",
       "        text-align: right;\n",
       "    }\n",
       "</style>\n",
       "<table border=\"1\" class=\"dataframe\">\n",
       "  <thead>\n",
       "    <tr style=\"text-align: right;\">\n",
       "      <th></th>\n",
       "      <th>Content</th>\n",
       "      <th>Target</th>\n",
       "    </tr>\n",
       "  </thead>\n",
       "  <tbody>\n",
       "    <tr>\n",
       "      <th>0</th>\n",
       "      <td>блеф» один мой самый любимый комедия фильм нав...</td>\n",
       "      <td>Good</td>\n",
       "    </tr>\n",
       "    <tr>\n",
       "      <th>1</th>\n",
       "      <td>адриано челентано продолжать радовать свой раб...</td>\n",
       "      <td>Good</td>\n",
       "    </tr>\n",
       "    <tr>\n",
       "      <th>2</th>\n",
       "      <td>несомненно это великий фильм 80х год исключите...</td>\n",
       "      <td>Good</td>\n",
       "    </tr>\n",
       "    <tr>\n",
       "      <th>3</th>\n",
       "      <td>этот фраза взгляд отражать сюжет несомненно пр...</td>\n",
       "      <td>Good</td>\n",
       "    </tr>\n",
       "    <tr>\n",
       "      <th>4</th>\n",
       "      <td>петь земфира скорее совершенно другой повод «ф...</td>\n",
       "      <td>Neutral</td>\n",
       "    </tr>\n",
       "    <tr>\n",
       "      <th>...</th>\n",
       "      <td>...</td>\n",
       "      <td>...</td>\n",
       "    </tr>\n",
       "    <tr>\n",
       "      <th>36586</th>\n",
       "      <td>начать… давненько писать отрицательный рецензи...</td>\n",
       "      <td>Bad</td>\n",
       "    </tr>\n",
       "    <tr>\n",
       "      <th>36587</th>\n",
       "      <td>начать постер фильм «цветок дьявола» вызывать ...</td>\n",
       "      <td>Bad</td>\n",
       "    </tr>\n",
       "    <tr>\n",
       "      <th>36588</th>\n",
       "      <td>фильм производство россия поэтому многие ожида...</td>\n",
       "      <td>Good</td>\n",
       "    </tr>\n",
       "    <tr>\n",
       "      <th>36589</th>\n",
       "      <td>16 сентябрь больший экран выйти «мистический» ...</td>\n",
       "      <td>Bad</td>\n",
       "    </tr>\n",
       "    <tr>\n",
       "      <th>36590</th>\n",
       "      <td>эх пытаться настроить положительно фильм прост...</td>\n",
       "      <td>Bad</td>\n",
       "    </tr>\n",
       "  </tbody>\n",
       "</table>\n",
       "<p>36591 rows × 2 columns</p>\n",
       "</div>"
      ],
      "text/plain": [
       "                                                 Content   Target\n",
       "0      блеф» один мой самый любимый комедия фильм нав...     Good\n",
       "1      адриано челентано продолжать радовать свой раб...     Good\n",
       "2      несомненно это великий фильм 80х год исключите...     Good\n",
       "3      этот фраза взгляд отражать сюжет несомненно пр...     Good\n",
       "4      петь земфира скорее совершенно другой повод «ф...  Neutral\n",
       "...                                                  ...      ...\n",
       "36586  начать… давненько писать отрицательный рецензи...      Bad\n",
       "36587  начать постер фильм «цветок дьявола» вызывать ...      Bad\n",
       "36588  фильм производство россия поэтому многие ожида...     Good\n",
       "36589  16 сентябрь больший экран выйти «мистический» ...      Bad\n",
       "36590  эх пытаться настроить положительно фильм прост...      Bad\n",
       "\n",
       "[36591 rows x 2 columns]"
      ]
     },
     "execution_count": 2,
     "metadata": {},
     "output_type": "execute_result"
    }
   ],
   "source": [
    "df = pd.read_csv('save_true.csv', index_col='Unnamed: 0')\n",
    "df"
   ]
  },
  {
   "cell_type": "code",
   "execution_count": 3,
   "metadata": {},
   "outputs": [],
   "source": [
    "def clean_txt_2(text):\n",
    "    text = re.sub(r'[^а-яё\\s]', '', text)\n",
    "    return text"
   ]
  },
  {
   "cell_type": "code",
   "execution_count": 4,
   "metadata": {},
   "outputs": [],
   "source": [
    "df['clean_cont'] = df['Content'].apply(clean_txt_2)"
   ]
  },
  {
   "cell_type": "code",
   "execution_count": 5,
   "metadata": {},
   "outputs": [],
   "source": [
    "def get_words_by_freq(sorted_words: list[tuple[str, int]], n: int = 10) -> list:\n",
    "    return list(filter(lambda x: x[1] > n, sorted_words))"
   ]
  },
  {
   "cell_type": "code",
   "execution_count": 6,
   "metadata": {},
   "outputs": [],
   "source": [
    "preproc = df['clean_cont'].tolist()\n",
    "\n",
    "#Анализируем частоты слов и выбираем только часто встречаемые (выше порога)\n",
    "\n",
    "corpus = [word for text in preproc for word in text.split()]\n",
    "sorted_words = Counter(corpus).most_common()\n",
    "\n",
    "porog = 30\n",
    "\n",
    "sorted_words = get_words_by_freq(sorted_words, porog)"
   ]
  },
  {
   "cell_type": "code",
   "execution_count": 7,
   "metadata": {},
   "outputs": [
    {
     "data": {
      "text/plain": [
       "[('анфиса', 31),\n",
       " ('уилль', 31),\n",
       " ('доцент', 31),\n",
       " ('жён', 31),\n",
       " ('герд', 31),\n",
       " ('киносвидание', 31),\n",
       " ('вий', 31),\n",
       " ('вия', 31),\n",
       " ('штольня', 31),\n",
       " ('суперменеджер', 31)]"
      ]
     },
     "execution_count": 7,
     "metadata": {},
     "output_type": "execute_result"
    }
   ],
   "source": [
    "sorted_words[-10:]"
   ]
  },
  {
   "cell_type": "code",
   "execution_count": 8,
   "metadata": {},
   "outputs": [
    {
     "data": {
      "text/plain": [
       "13942"
      ]
     },
     "execution_count": 8,
     "metadata": {},
     "output_type": "execute_result"
    }
   ],
   "source": [
    "len(sorted_words)"
   ]
  },
  {
   "cell_type": "code",
   "execution_count": 9,
   "metadata": {},
   "outputs": [],
   "source": [
    "# Создаем словарь слово: индекс\n",
    "vocab_to_int = {w:i+1 for i, (w,c) in enumerate(sorted_words)}"
   ]
  },
  {
   "cell_type": "code",
   "execution_count": 10,
   "metadata": {},
   "outputs": [
    {
     "name": "stdout",
     "output_type": "stream",
     "text": [
      "[11470, 12, 61, 15, 126, 225, 1, 959, 17, 1317, 47, 28, 1408, 4, 1129, 35, 1019, 131, 1, 247, 7678, 4688, 3, 143, 2, 10, 20, 25, 123, 13, 523, 5895, 776, 2131, 6386, 422, 230, 922, 64, 5896, 4796, 1015, 27, 355, 13, 1203, 4, 2131, 3786, 4688, 1988, 4, 66, 3434, 458, 1080, 131, 300, 86, 696, 7678, 663, 137, 55, 2298, 15, 9838, 385, 1063, 17, 881, 347, 13454, 12, 83, 24, 511, 12, 4, 1, 2617, 829, 20, 1280, 12, 60, 8778, 2583, 1839, 212, 1385, 5616, 220, 1302, 54, 7244, 3, 471, 5584, 14, 3564, 1839, 7, 24, 55, 154, 13, 1, 152, 3, 1205, 9117, 6540, 1393, 6540, 460, 5719, 309, 5015, 2583, 156, 5063, 4, 1689, 560, 5617, 4380, 3, 4362, 13455, 826, 441, 500, 256, 10526, 8697, 5719, 10527, 224, 1045, 1281, 3435, 300, 60, 333, 38, 809, 1603, 8, 2085, 89, 678, 11470, 4689, 18, 562, 1069, 86, 11025, 11627, 11470, 140, 60, 2602, 735, 1701, 161, 60, 2355, 11471, 4073, 3963, 2178, 3394, 2339, 606, 60, 3, 3195, 1087, 55, 809, 1588, 265, 2291, 22, 2, 123, 25, 17, 474, 6, 293, 465, 4, 2116, 1936]\n",
      "блеф один мой самый любимый комедия фильм наверно смотреть сто блефовать видеть мочь выразить свой восхищение главный действовать лицо фильм начать адриано челентано который считать это хороший роль кино великолепный актёр неплохой певец странно родина италия песня мало слушать думать итальянец француз привыкнуть тот сей актёр популярный свой родина парадокс челентано профессионал свой дело комик серьёзный выражение лицо смешной ещё одновременно серъёзный адриано браво несколько слово энтони куиня самый горбун нотрдама собор парижский богоматерь оригинальный версия смотреть рекомендовать както приключиться один интересный история съёмка один свой фильм сломать подвихнуть нога роль требовать один сцена кружиться дама танец вместе съёмочный коллектив выйти положение сделать вращаться платформа который создавать видимость весь ритм танец такой история слово замечательный актёр фильм жанр который смело обозвать авантюра комедийный авантюра некий белля дьюк весьма влиятельный дама пытаться освободить свой старое знакомый авантюрист филипп бенга который давний счёты вместо свобода оказываться комбинатораферист имя феликс битый головорез белля дьюк разрабатывать план побег бэнг встречаться череда смешной сцена заставить зритель разразиться шквальный смех умение блефовать просто равный главное правило блеф сработать сам поверить помимо ещё соревноваться стратегия блеф некоторый сцена обман запомниться надолго особенно сцена магазин ткань привет старина выпустить лепрозорий оттуда сбежать финальный сцена который охарактеризовать три слово смех сквозь слеза завершение сказать это великолепный кино смотреть пересматривать очень оно потерять свой шарм обаяние  \n"
     ]
    }
   ],
   "source": [
    "# Конвертируем слова в индексы\n",
    "reviews_int = []\n",
    "for text in preproc:\n",
    "    r = [vocab_to_int[word] for word in text.split() if vocab_to_int.get(word)]\n",
    "    reviews_int.append(r)\n",
    "print([i for i in reviews_int[0]])\n",
    "print(preproc[0])"
   ]
  },
  {
   "cell_type": "code",
   "execution_count": 11,
   "metadata": {},
   "outputs": [
    {
     "name": "stdout",
     "output_type": "stream",
     "text": [
      "Total reviews: 36591\n",
      "Random review for word2vec: ['убрать', 'моцарт', 'один', 'нота', 'желание', 'вернуть', 'её', 'место', 'преследовать', 'каждый', 'прослушивание', 'напротив', 'добавить', 'один', 'лишний', 'вырезать', 'й', 'минута', 'начала', 'хотя', 'один', 'сцена', 'её', 'хватать', 'добавить', 'диалог', 'яркий', 'краска', 'сюжет', 'быть', 'разбавить', 'каждый', 'следующий', 'минута', 'фильм', 'дополнять', 'какойтый', 'степень', 'картина', 'каждый', 'прошедший', 'минута', 'наполнять', 'краска', 'следующий', 'последовательно', 'переходить', 'она', 'огромный', 'количество', 'пища', 'размышление', 'смесь', 'фильм', 'напоминать', 'первый', 'матрицу', 'схожесть', 'этот', 'шедевр', 'заканчиваться', 'сравнимый', 'послевкусие', 'уникальный', 'палитра', 'вкус', 'желание', 'ощутить', 'ещё', 'ещё', 'смотреть', 'следующий', 'такой', 'уникальный', 'кристофер', 'нолан', 'ханс', 'циммер', 'подарить', 'человечество', 'фильм', 'вкус', 'который', 'невозможно', 'забыть', 'выделяться', 'общий', 'масса', 'затмевать', 'матрицу', 'поднимать', 'планка', 'новый', 'уровень']\n"
     ]
    }
   ],
   "source": [
    "w2v_input = []\n",
    "for review in preproc:\n",
    "    cur_review = []\n",
    "    for word in review.split():\n",
    "        if vocab_to_int.get(word):\n",
    "            cur_review.append(word)\n",
    "    w2v_input.append(cur_review)\n",
    "print(f'Total reviews: {len(w2v_input)}')\n",
    "print(f'Random review for word2vec: {w2v_input[np.random.randint(0, 30000)]}')"
   ]
  },
  {
   "cell_type": "code",
   "execution_count": 12,
   "metadata": {},
   "outputs": [],
   "source": [
    "VOCAB_SIZE = len(vocab_to_int) + 1\n",
    "EMBEDDING_DIM = 128"
   ]
  },
  {
   "cell_type": "code",
   "execution_count": 13,
   "metadata": {},
   "outputs": [
    {
     "name": "stdout",
     "output_type": "stream",
     "text": [
      "Total reviews: 36591\n"
     ]
    }
   ],
   "source": [
    "#Обучим Word2Vec\n",
    "wv = Word2Vec(\n",
    "    vector_size=EMBEDDING_DIM # размерность вектора для слова\n",
    "    )\n",
    "# Сначала word2vec составляет словарь\n",
    "wv.build_vocab(w2v_input)\n",
    "print(f'Total reviews: {wv.corpus_count}')"
   ]
  },
  {
   "cell_type": "code",
   "execution_count": 14,
   "metadata": {},
   "outputs": [],
   "source": [
    "# Далее обучаем\n",
    "wv.train(\n",
    "    corpus_iterable=w2v_input,\n",
    "    total_examples=wv.corpus_count,\n",
    "    epochs=30\n",
    "    );"
   ]
  },
  {
   "cell_type": "code",
   "execution_count": 50,
   "metadata": {},
   "outputs": [
    {
     "data": {
      "text/plain": [
       "<gensim.models.word2vec.Word2Vec at 0x79a3fad80a90>"
      ]
     },
     "execution_count": 50,
     "metadata": {},
     "output_type": "execute_result"
    }
   ],
   "source": [
    "wv"
   ]
  },
  {
   "cell_type": "code",
   "execution_count": 15,
   "metadata": {},
   "outputs": [
    {
     "name": "stdout",
     "output_type": "stream",
     "text": [
      "Number of words x EMEDDING_DIM: (13943, 128)\n"
     ]
    }
   ],
   "source": [
    "# Создаем слой эмбеддинга\n",
    "embedding_matrix = np.zeros((VOCAB_SIZE, EMBEDDING_DIM))\n",
    "\n",
    "# Бежим по всем словам словаря: если слово есть в word2vec, \n",
    "# достаем его вектор; если слова нет, то распечатываем его и пропускаем\n",
    "for word, i in vocab_to_int.items():\n",
    "    try:\n",
    "        embedding_vector = wv.wv[word]\n",
    "        embedding_matrix[i] = embedding_vector\n",
    "    except KeyError as e:\n",
    "        pass\n",
    "        print(f'{e}: word: {word}')\n",
    "        \n",
    "# Создаем предобученный эмбеддинг – этот слой в нашей сети обучаться не будет\n",
    "embedding_layer = nn.Embedding.from_pretrained(torch.FloatTensor(embedding_matrix))\n",
    "print(f'Number of words x EMEDDING_DIM: {embedding_matrix.shape}')"
   ]
  },
  {
   "cell_type": "code",
   "execution_count": 16,
   "metadata": {},
   "outputs": [],
   "source": [
    "HIDDEN_SIZE = 32\n",
    "SEQ_LEN = 80\n",
    "BATCH_SIZE = 256"
   ]
  },
  {
   "cell_type": "code",
   "execution_count": 17,
   "metadata": {},
   "outputs": [],
   "source": [
    "def padding(review_int, seq_len):\n",
    "    features = np.zeros((len(review_int), seq_len), dtype=int)\n",
    "\n",
    "    for i, review in enumerate(review_int):\n",
    "        if not isinstance(review, list):\n",
    "            raise ValueError(f\"Ошибка: ожидался список, но получено {type(review)}\")\n",
    "        if len(review) == 0:\n",
    "            continue  \n",
    "        features[i, -min(len(review), seq_len):] = np.array(review[:seq_len])\n",
    "    \n",
    "    return features"
   ]
  },
  {
   "cell_type": "code",
   "execution_count": 18,
   "metadata": {},
   "outputs": [],
   "source": [
    "from sklearn.preprocessing import LabelEncoder\n",
    "from sklearn.model_selection import train_test_split\n",
    "#Закодируем таргет\n",
    "encoder = LabelEncoder()\n",
    "target = encoder.fit_transform(df['Target'])"
   ]
  },
  {
   "cell_type": "code",
   "execution_count": 19,
   "metadata": {},
   "outputs": [],
   "source": [
    "padded = padding(reviews_int, SEQ_LEN) \n",
    "y = np.array(target)"
   ]
  },
  {
   "cell_type": "code",
   "execution_count": 20,
   "metadata": {},
   "outputs": [],
   "source": [
    "X = np.array(padded)"
   ]
  },
  {
   "cell_type": "code",
   "execution_count": 21,
   "metadata": {},
   "outputs": [],
   "source": [
    "#### делаем балансировку классов с помощью SMOTE\n",
    "\n",
    "#sm = SMOTE(random_state=42)\n",
    "#X_bal, y_bal = sm.fit_resample(X, y)"
   ]
  },
  {
   "cell_type": "markdown",
   "metadata": {},
   "source": [
    "### Не сработало, плохие метрики"
   ]
  },
  {
   "cell_type": "code",
   "execution_count": 22,
   "metadata": {},
   "outputs": [],
   "source": [
    "#делаем другое\n",
    "from sklearn.utils.class_weight import compute_class_weight\n",
    "class_weights = compute_class_weight('balanced', classes=np.array([0, 1, 2]), \n",
    "                                     y=target)\n",
    "class_weights = torch.tensor(class_weights, dtype=torch.float)"
   ]
  },
  {
   "cell_type": "code",
   "execution_count": 23,
   "metadata": {},
   "outputs": [
    {
     "name": "stdout",
     "output_type": "stream",
     "text": [
      "0: 4751\n",
      "1: 27264\n",
      "2: 4576\n"
     ]
    }
   ],
   "source": [
    "unique_values, counts = np.unique(target, return_counts=True)\n",
    "\n",
    "# Выводим результат\n",
    "for value, count in zip(unique_values, counts):\n",
    "    print(f\"{value}: {count}\")"
   ]
  },
  {
   "cell_type": "code",
   "execution_count": 24,
   "metadata": {},
   "outputs": [
    {
     "data": {
      "text/plain": [
       "tensor([2.5672, 0.4474, 2.6654])"
      ]
     },
     "execution_count": 24,
     "metadata": {},
     "output_type": "execute_result"
    }
   ],
   "source": [
    "class_weights"
   ]
  },
  {
   "cell_type": "code",
   "execution_count": 25,
   "metadata": {},
   "outputs": [],
   "source": [
    "#### Делаем даталодер\n",
    "\n",
    "class LSTMDataset(Dataset):\n",
    "    def __init__(self, X, y):\n",
    "        self.X = torch.LongTensor(X)\n",
    "        self.y = torch.FloatTensor(y)  # для бинарной классификации\n",
    "    def __len__(self):\n",
    "        return len(self.X)\n",
    "    def __getitem__(self, idx):\n",
    "        return self.X[idx], self.y[idx]"
   ]
  },
  {
   "cell_type": "code",
   "execution_count": 26,
   "metadata": {},
   "outputs": [],
   "source": [
    "X_train, X_valid, y_train, y_valid = train_test_split(\n",
    "    X, y, test_size=0.2, random_state=42)"
   ]
  },
  {
   "cell_type": "code",
   "execution_count": 27,
   "metadata": {},
   "outputs": [],
   "source": [
    "train_data = LSTMDataset(X_train, y_train)\n",
    "valid_data = LSTMDataset(X_valid, y_valid)\n",
    "train_loader = DataLoader(train_data, shuffle=True, batch_size=BATCH_SIZE)\n",
    "valid_loader = DataLoader(valid_data, shuffle=True, batch_size=BATCH_SIZE)"
   ]
  },
  {
   "cell_type": "code",
   "execution_count": 28,
   "metadata": {},
   "outputs": [],
   "source": [
    "class BahdanauAttention(nn.Module):\n",
    "    def __init__(\n",
    "            self, \n",
    "            hidden_size: int = HIDDEN_SIZE\n",
    "            ) -> None:\n",
    "        \n",
    "        super().__init__()\n",
    "        self.hidden_size = hidden_size\n",
    "        self.w_k = nn.Linear(self.hidden_size, self.hidden_size)\n",
    "        self.w_q = nn.Linear(self.hidden_size, self.hidden_size)\n",
    "        self.tanh   = nn.Tanh()\n",
    "        self.w_v = nn.Linear(self.hidden_size, 1)\n",
    "\n",
    "        # self.align  = nn.Linear(self.hidden_size * 2, self.hidden_size)\n",
    "\n",
    "    def forward(\n",
    "            self, \n",
    "            lstm_outputs: torch.Tensor, # BATCH_SIZE x SEQ_LEN x HIDDEN_SIZE\n",
    "            final_hidden: torch.Tensor  # BATCH_SIZE x HIDDEN_SIZE\n",
    "            ):\n",
    "        att_hidden_left = self.w_k(lstm_outputs)\n",
    "        att_hidden_right = self.w_q(final_hidden)\n",
    "        summ = att_hidden_left + att_hidden_right.unsqueeze(1)\n",
    "        after_tanh = self.tanh(summ)\n",
    "        output = self.w_v(after_tanh)\n",
    "        attention_weights = F.softmax(output, dim=1)\n",
    "        context = torch.bmm(attention_weights.transpose(1,2), att_hidden_left)\n",
    " \n",
    "        return context, attention_weights"
   ]
  },
  {
   "cell_type": "code",
   "execution_count": 29,
   "metadata": {},
   "outputs": [],
   "source": [
    "class LSTMConcatAttention(nn.Module):\n",
    "    def __init__(self) -> None:\n",
    "        super().__init__()\n",
    "\n",
    "        # self.embedding = nn.Embedding(VOCAB_SIZE, EMBEDDING_DIM)\n",
    "        self.embedding = embedding_layer\n",
    "        self.lstm = nn.LSTM(EMBEDDING_DIM, HIDDEN_SIZE, batch_first=True)\n",
    "        self.attn = BahdanauAttention(HIDDEN_SIZE)\n",
    "        self.clf = nn.Sequential(\n",
    "            nn.Linear(HIDDEN_SIZE, 128),\n",
    "            nn.Dropout(),\n",
    "            nn.Tanh(),\n",
    "            nn.Linear(128, 3)\n",
    "        )\n",
    "    \n",
    "    def forward(self, x):\n",
    "        embeddings = self.embedding(x)\n",
    "        outputs, (h_n, _) = self.lstm(embeddings)\n",
    "        att_hidden, att_weights = self.attn(outputs, h_n.squeeze(0))\n",
    "        out = self.clf(att_hidden)\n",
    "        return out, att_weights"
   ]
  },
  {
   "cell_type": "code",
   "execution_count": 30,
   "metadata": {},
   "outputs": [],
   "source": [
    "DEVICE = 'cuda' if torch.cuda.is_available() else 'cpu'"
   ]
  },
  {
   "cell_type": "code",
   "execution_count": 31,
   "metadata": {},
   "outputs": [],
   "source": [
    "attention = BahdanauAttention(HIDDEN_SIZE)\n",
    "model = LSTMConcatAttention().to(DEVICE)\n",
    "device = DEVICE\n",
    "criterion = torch.nn.CrossEntropyLoss(weight=class_weights).to(device)\n",
    "optimizer = torch.optim.Adam(model.parameters(), lr=0.001)"
   ]
  },
  {
   "cell_type": "code",
   "execution_count": 32,
   "metadata": {},
   "outputs": [],
   "source": [
    "from sklearn.metrics import f1_score"
   ]
  },
  {
   "cell_type": "code",
   "execution_count": 41,
   "metadata": {},
   "outputs": [],
   "source": [
    "def fit(model: torch.nn.Module, \n",
    "        n_epochs: int, \n",
    "        train_loader: DataLoader,\n",
    "        valid_loader: DataLoader,\n",
    "        optimizer: torch.optim.Optimizer,\n",
    "        device: torch.device,\n",
    "        log = None):\n",
    "    \n",
    "    log = log or {\n",
    "        'epoch_train_loss': [],\n",
    "        'epoch_valid_loss': [],\n",
    "        'epoch_train_f1': [],\n",
    "        'epoch_valid_f1': [],\n",
    "    }\n",
    "\n",
    "    start_epoch = len(log['epoch_train_loss'])\n",
    "\n",
    "    for epoch in range(start_epoch+1, start_epoch+n_epochs+1):\n",
    "            \n",
    "        print(f'{\"-\"*38} Epoch  {epoch}/{n_epochs} {\"-\"*38}')\n",
    "        batch_loss = []\n",
    "        batch_f1 = []\n",
    "        model.train()\n",
    "\n",
    "        for X_batch, y_batch in train_loader:\n",
    "            \n",
    "            X_batch = X_batch.to(device)\n",
    "            y_batch = y_batch.to(device)\n",
    "\n",
    "            outputs, _ = model(X_batch)  # outputs: [batch_size, num_classes]\n",
    "            outputs = outputs.squeeze(1)\n",
    "            loss = F.cross_entropy(outputs, y_batch.squeeze().long())\n",
    "            preds = torch.argmax(outputs, dim=1)\n",
    "\n",
    "            # Вычисляем F1\n",
    "            f1 = f1_score(y_batch.cpu().numpy(), preds.cpu().numpy(), average='weighted')\n",
    "\n",
    "            batch_loss.append(loss.item())\n",
    "            batch_f1.append(f1)\n",
    "\n",
    "            optimizer.zero_grad()\n",
    "            loss.backward()\n",
    "            optimizer.step()\n",
    "\n",
    "        log['epoch_train_loss'].append(np.mean(batch_loss))\n",
    "        log['epoch_train_f1'].append(np.mean(batch_f1))\n",
    "\n",
    "        # Валидация\n",
    "        batch_loss = []\n",
    "        batch_f1 = []\n",
    "        model.eval()\n",
    "        with torch.no_grad():\n",
    "            for X_batch, y_batch in valid_loader:\n",
    "                X_batch = X_batch.to(DEVICE)\n",
    "                y_batch = y_batch.to(DEVICE)\n",
    "\n",
    "                outputs, _ = model(X_batch)\n",
    "                outputs = outputs.squeeze(1)\n",
    "                loss = F.cross_entropy(outputs, y_batch.squeeze().long())\n",
    "\n",
    "                preds = torch.argmax(outputs, dim=1)\n",
    "                f1 = f1_score(y_batch.cpu().numpy(), preds.cpu().numpy(), average='weighted')\n",
    "\n",
    "                batch_loss.append(loss.item())\n",
    "                batch_f1.append(f1)\n",
    "\n",
    "        log['epoch_valid_loss'].append(np.mean(batch_loss))\n",
    "        log['epoch_valid_f1'].append(np.mean(batch_f1))\n",
    "\n",
    "        print(f\"Train stage: loss: {log['epoch_train_loss'][-1]:.3f} f1: {log['epoch_train_f1'][-1]:.3f}\")\n",
    "        print(f\"Valid stage: loss: {log['epoch_valid_loss'][-1]:.3f} f1: {log['epoch_valid_f1'][-1]:.3f}\")\n",
    "\n",
    "    return log "
   ]
  },
  {
   "cell_type": "code",
   "execution_count": 34,
   "metadata": {},
   "outputs": [],
   "source": [
    "#criterion = torch.nn.CrossEntropyLoss(weight=class_weights).to(device)\n",
    "#model1 = LSTMConcatAttention().to(DEVICE)\n",
    "#optimiz = torch.optim.Adam(model1.parameters(), lr=0.001)"
   ]
  },
  {
   "cell_type": "code",
   "execution_count": 35,
   "metadata": {},
   "outputs": [],
   "source": [
    "#lstm2 = fit(\n",
    "   # model=model1,\n",
    "    #n_epochs=7,\n",
    "    #train_loader=train_loader,\n",
    "    #valid_loader=valid_loader,\n",
    "    #optimizer=optimiz,\n",
    "    #device=DEVICE\n",
    "    #)"
   ]
  },
  {
   "cell_type": "code",
   "execution_count": 42,
   "metadata": {},
   "outputs": [
    {
     "name": "stdout",
     "output_type": "stream",
     "text": [
      "-------------------------------------- Epoch  1/2 --------------------------------------\n",
      "Train stage: loss: 0.487 f1: 0.773\n",
      "Valid stage: loss: 0.530 f1: 0.758\n",
      "-------------------------------------- Epoch  2/2 --------------------------------------\n",
      "Train stage: loss: 0.470 f1: 0.784\n",
      "Valid stage: loss: 0.536 f1: 0.765\n"
     ]
    }
   ],
   "source": [
    "lstm = fit(\n",
    "    model=model,\n",
    "    n_epochs=2,\n",
    "    train_loader=train_loader,\n",
    "    valid_loader=valid_loader,\n",
    "    optimizer=optimizer,\n",
    "    device=DEVICE\n",
    "    )"
   ]
  },
  {
   "cell_type": "code",
   "execution_count": 43,
   "metadata": {},
   "outputs": [
    {
     "name": "stdout",
     "output_type": "stream",
     "text": [
      "-------------------------------------- Epoch  3/3 --------------------------------------\n",
      "Train stage: loss: 0.455 f1: 0.793\n",
      "Valid stage: loss: 0.541 f1: 0.766\n",
      "-------------------------------------- Epoch  4/3 --------------------------------------\n",
      "Train stage: loss: 0.439 f1: 0.805\n",
      "Valid stage: loss: 0.557 f1: 0.769\n",
      "-------------------------------------- Epoch  5/3 --------------------------------------\n",
      "Train stage: loss: 0.426 f1: 0.811\n",
      "Valid stage: loss: 0.570 f1: 0.777\n"
     ]
    }
   ],
   "source": [
    "lstm = fit(\n",
    "    model=model,\n",
    "    n_epochs=3,\n",
    "    train_loader=train_loader,\n",
    "    valid_loader=valid_loader,\n",
    "    optimizer=optimizer,\n",
    "    device=DEVICE,\n",
    "    log=lstm\n",
    "    )"
   ]
  },
  {
   "cell_type": "code",
   "execution_count": 44,
   "metadata": {},
   "outputs": [
    {
     "data": {
      "text/plain": [
       "Text(0.5, 1.0, 'F1 score')"
      ]
     },
     "execution_count": 44,
     "metadata": {},
     "output_type": "execute_result"
    },
    {
     "data": {
      "image/png": "[encoded data removed]",
      "text/plain": [
       "<Figure size 1400x500 with 2 Axes>"
      ]
     },
     "metadata": {},
     "output_type": "display_data"
    }
   ],
   "source": [
    "import matplotlib.pyplot as plt\n",
    "import mplcyberpunk\n",
    "plt.style.use(\"cyberpunk\")\n",
    "\n",
    "fig, ax = plt.subplots(1, 2, figsize=(14, 5))\n",
    "ax[0].plot(lstm['epoch_train_loss'], label='Train loss')\n",
    "ax[0].plot(lstm['epoch_valid_loss'], label='Valid Loss')\n",
    "ax[0].legend()\n",
    "ax[0].set_title('Loss')\n",
    "\n",
    "ax[1].plot(lstm['epoch_train_f1'], label='Train accuracy')\n",
    "ax[1].plot(lstm['epoch_valid_f1'], label='Valid accuracy')\n",
    "ax[1].legend()\n",
    "ax[1].set_title('F1 score')"
   ]
  },
  {
   "cell_type": "code",
   "execution_count": 49,
   "metadata": {},
   "outputs": [
    {
     "name": "stdout",
     "output_type": "stream",
     "text": [
      "F1 score on LSTN+Attention: 0.77698106405946\n"
     ]
    }
   ],
   "source": [
    "print(f'F1 score on LSTN+Attention: {max(lstm[\"epoch_valid_f1\"])}')"
   ]
  },
  {
   "cell_type": "code",
   "execution_count": 45,
   "metadata": {},
   "outputs": [],
   "source": [
    "torch.save(model.state_dict(), './nlp_project/models/model_1/lstm/lstm.pt')"
   ]
  },
  {
   "cell_type": "code",
   "execution_count": 51,
   "metadata": {},
   "outputs": [],
   "source": [
    "wv.save('/home/marena/Elbrus_phase_2/nlp_project/models/model_1/lstm/w2v.model')"
   ]
  }
 ],
 "metadata": {
  "kernelspec": {
   "display_name": "phase2",
   "language": "python",
   "name": "python3"
  },
  "language_info": {
   "codemirror_mode": {
    "name": "ipython",
    "version": 3
   },
   "file_extension": ".py",
   "mimetype": "text/x-python",
   "name": "python",
   "nbconvert_exporter": "python",
   "pygments_lexer": "ipython3",
   "version": "3.10.16"
  }
 },
 "nbformat": 4,
 "nbformat_minor": 2
}
